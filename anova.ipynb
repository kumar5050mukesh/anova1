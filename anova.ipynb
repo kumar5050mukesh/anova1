{
 "cells": [
  {
   "cell_type": "code",
   "execution_count": null,
   "metadata": {},
   "outputs": [],
   "source": [
    "# \"\"\"Q1. Explain the assumptions required to use ANOVA and provide examples of violations that could impact\n",
    "# the validity of the results.\n",
    "\"\"\"ANOVA  is a statistical technique used to compare means across multiple groups. \n",
    "\n",
    "The assumptions required to use ANOVA are:\n",
    "\n",
    "Normality- The data should be normally distributed within each group. \n",
    "if the data in one group is heavily skewed, ANOVA may not be the best statistical test to use.\n",
    "\n",
    "Homogeneity of variance- The variance of the dependent variable should be equal across all groups.\n",
    "\n",
    "\n",
    "Independence: The observations should be independent of each other. \n",
    "\n",
    "\n",
    "Examples of violations \n",
    " If the data is not normally distributed, ANOVA may not be appropriate. \n",
    " For example, if the data is heavily skewed or has outliers.\n",
    "\n",
    " If the variances of the dependent variable are significantly different across the groups, \n",
    " this may impact the validity of the results. \n",
    "\n",
    " If the observations are not independent of each other, this can lead to inaccurate results. \n",
    "\"\"\"\n",
    "\n",
    "\n"
   ]
  },
  {
   "cell_type": "code",
   "execution_count": null,
   "metadata": {},
   "outputs": [],
   "source": [
    "# Q2. What are the three types of ANOVA, and in what situations would each be used?\n",
    "\"\"\"The three types of ANOVA are:\n",
    "\n",
    "One-way ANOVA---- One-way ANOVA is used when there is only one independent variable (or factor) that has two or more \n",
    "levels or groups.  \n",
    "if we want to compare the mean weight gain  among three different diets, we would use a one-way ANOVA.\n",
    "\n",
    "Two-way ANOVA--- Two-way ANOVA is used when there are two independent variables (or factors) that each have two or more levels\n",
    "or groups. \n",
    "For example -  if we want to determine the effect of a rain  and snow  on crop  we  use a two-way ANOVA.\n",
    "\n",
    "Repeated measures ANOVA---- Repeated measures ANOVA is used when the same subjects are measured under different\n",
    " conditions or at different time points. \n",
    "\"\"\""
   ]
  },
  {
   "cell_type": "code",
   "execution_count": null,
   "metadata": {},
   "outputs": [],
   "source": [
    "# Q3. What is the partitioning of variance in ANOVA, and why is it important to understand this concept?\n",
    "\"\"\"Partitioning of variance is a central concept in ANOVA that refers to the division of the total variance in the data\n",
    " into different components that are associated with the different sources of variation.\n",
    "\n",
    "The total variance in the data can be partitioned into two components: the variance between groups \n",
    ", and the variance within groups \n",
    "\n",
    "The variance between groups represents the degree to which the means of the dependent variable differ between the groups\n",
    " being compared. The variance within groups represents the degree to which the observations within each group differ from each other.\n",
    "\n",
    "Partitioning of variance is important because it allows us to determine whether the differences between the groups are \n",
    "statistically significant. By comparing the variance between groups to the variance within groups, we can calculate \n",
    "the F-statistic, which tells us whether the differences between the groups are due to chance or whether they are \n",
    "statistically significant.\n",
    "\n",
    "Furthermore, partitioning of variance also helps us to understand the relative contributions of different sources of\n",
    " variation to the overall variance in the data. This information can be useful in identifying which factors are most \n",
    " important in explaining the variability in the data, and can help guide future research and interventions.\n",
    "\n",
    "\"\"\""
   ]
  },
  {
   "cell_type": "code",
   "execution_count": 39,
   "metadata": {},
   "outputs": [
    {
     "name": "stdout",
     "output_type": "stream",
     "text": [
      "           df  sum_sq  mean_sq    F    PR(>F)\n",
      "food      1.0     1.6      1.6  4.0  0.139326\n",
      "Residual  3.0     1.2      0.4  NaN       NaN\n",
      "1.6000000000000023\n",
      "1.1999999999999993\n",
      "0.400000000000003\n"
     ]
    }
   ],
   "source": [
    "# Q4. How would you calculate the total sum of squares (SST), explained sum of squares (SSE), and residual\n",
    "# sum of squares (SSR) in a one-way ANOVA using Python?\n",
    "import pandas as pd\n",
    "import statsmodels.api as sm\n",
    "from statsmodels.formula.api import ols\n",
    "data = {'food': [3,4,5,6,7],\n",
    "        'weight_lost': [1, 2, 3, 2, 3]}\n",
    "df = pd.DataFrame(data)\n",
    "model = ols('weight_lost ~ food', data=df).fit()\n",
    "tbl = sm.stats.anova_lm(model, typ=1)\n",
    "print(tbl)\n",
    "sst = sm.stats.anova_lm(model, typ=1)['sum_sq'][0]\n",
    "print(sst)\n",
    "\n",
    "sse = sm.stats.anova_lm(model, typ=1)['sum_sq'][1]\n",
    "print(sse)\n",
    "\n",
    "ssr = sst - sse\n",
    "print(ssr)\n",
    "\n",
    "\n"
   ]
  },
  {
   "cell_type": "code",
   "execution_count": 38,
   "metadata": {},
   "outputs": [
    {
     "name": "stdout",
     "output_type": "stream",
     "text": [
      "88.40903881010894\n",
      "978.5141341764569\n",
      "151.13052457126028\n"
     ]
    }
   ],
   "source": [
    "# Q5. In a two-way ANOVA, how would you calculate the main effects and interaction effects using Python?\n",
    "\n",
    "import pandas as pd\n",
    "import statsmodels.api as sm\n",
    "from statsmodels.formula.api import ols\n",
    "\n",
    "data = pd.DataFrame({'food1': [8,12,19,8,6,11],\n",
    "                     'food2': [4,5,4,6,9,7],\n",
    "                     \"weight\":[45,46,55,67,78,87]\n",
    "                     })\n",
    "\n",
    "\n",
    "\n",
    "model = ols('weight ~ food1 + food2 + food1:food2', data=data).fit()\n",
    "\n",
    "anova_table = sm.stats.anova_lm(model, typ=2)\n",
    "\n",
    "\n",
    "food1_effect_1 = anova_table['sum_sq'][0] / anova_table['df'][0]\n",
    "food2_effect_2 = anova_table['sum_sq'][1] / anova_table['df'][1]\n",
    "interaction_effect = anova_table['sum_sq'][2] / anova_table['df'][2]\n",
    "\n",
    "\n",
    "print(food1_effect_1)\n",
    "print(food2_effect_2)\n",
    "print(interaction_effect)\n"
   ]
  },
  {
   "cell_type": "code",
   "execution_count": null,
   "metadata": {},
   "outputs": [],
   "source": [
    "# Q6. Suppose you conducted a one-way ANOVA and obtained an F-statistic of 5.23 and a p-value of 0.02.\n",
    "# What can you conclude about the differences between the groups, and how would you interpret these\n",
    "# results?\n",
    "\"\"\" F-statistic is the ratio of the variance between the groups to the variance within the groups, and it \n",
    "tests that there is no significant difference between the means of the groups.\n",
    "\n",
    "the F-statistic is 5.23,the variance between the group is five times the variance within the group.\n",
    " The p-value of 0.02 < 0.05, rejection of null hypothesis that mean across the group is same.\n",
    "\"\"\"\n"
   ]
  },
  {
   "cell_type": "code",
   "execution_count": null,
   "metadata": {},
   "outputs": [],
   "source": [
    "# Q7. In a repeated measures ANOVA, how would you handle missing data, and what are the potential\n",
    "# consequences of using different methods to handle missing data?\n",
    "\n",
    "\"\"\"the simplest method is the deletion of the data listwise or pairwise but the missing data can be imputaed with the estimated\n",
    " value  using mean imputation or the regression imputation , the problem may arise if it gives the biased results ,it may also \n",
    " lead to the type 1 and type 2 error \"\"\"\n",
    "\n"
   ]
  },
  {
   "cell_type": "code",
   "execution_count": null,
   "metadata": {},
   "outputs": [],
   "source": [
    "# Q8. What are some common post-hoc tests used after ANOVA, and when would you use each one? Provide\n",
    "# an example of a situation where a post-hoc test might be necessary.\n",
    "\n",
    "\n",
    "\n",
    "\n",
    "\"\"\"After conducting an ANOVA, post-hoc tests are often used to determine which specific groups have significant differences.\n",
    "  \n",
    "\n",
    "Tukey's Honestly Significant Difference (HSD) test-- This test is a conservative procedure that adjusts for the probability \n",
    "of making multiple comparisons. It is recommended when the sample sizes are equal, and the variances are homogenous.\n",
    "\n",
    "Bonferroni correction: This test adjusts the alpha level for multiple comparisons by dividing it by the number of tests.\n",
    " It is a more stringent procedure than Tukey's HSD and is recommended when the sample sizes are unequal, and the variances \n",
    " are heterogeneous.\n",
    "\n",
    "Scheffé's method: This test is a more conservative procedure than Tukey's HSD and Bonferroni correction. It is recommended \n",
    "when the number of comparisons is small, and the sample sizes are unequal.\n",
    "\n",
    "Dunnett's test: This test compares each group with a control group, rather than all groups to each other. It is recommended \n",
    "when there is a single control group and multiple experimental groups.\n",
    "\n",
    " let's say a researcher wants to compare the effectiveness of three different types of exercise on weight loss: \n",
    "aerobic exercise, resistance exercise, and a combination of both. After conducting an ANOVA, the researcher finds a \n",
    "significant difference between the means of the groups. To determine which specific groups differ significantly, a \n",
    "post-hoc test such as Tukey's HSD or Bonferroni correction could be used. In this case, the Tukey's HSD test would\n",
    " be appropriate if the sample sizes are equal, and the variances are homogenous. However, if the sample sizes are \n",
    " unequal, and the variances are heterogeneous, the Bonferroni correction would be more appropriate.\n",
    "\"\"\"\n"
   ]
  },
  {
   "cell_type": "code",
   "execution_count": 12,
   "metadata": {},
   "outputs": [
    {
     "name": "stdout",
     "output_type": "stream",
     "text": [
      "20.176470588235297\n",
      "1.808323932018226e-08\n",
      "reject the null hypothesis \n"
     ]
    }
   ],
   "source": [
    "# Q9. A researcher wants to compare the mean weight loss of three diets: A, B, and C. They collect data from\n",
    "# 50 participants who were randomly assigned to one of the diets. Conduct a one-way ANOVA using Python\n",
    "# to determine if there are any significant differences between the mean weight loss of the three diets.\n",
    "# Report the F-statistic and p-value, and interpret the results.\n",
    "# H(0): mean is same across the group \n",
    "# H(1):mean is not same across the group\n",
    "import scipy.stats as stats\n",
    "import numpy as np\n",
    "\n",
    "\n",
    "A=np.linspace(1,10,50)\n",
    "B=np.linspace(1,5,50)\n",
    "C=np.linspace(1,7,50)\n",
    "f_stat, p_val = stats.f_oneway(A, B,C)\n",
    "\n",
    "print(f_stat)\n",
    "print(p_val)\n",
    "\n",
    "if p_val < 0.05:\n",
    "    print(\"reject the null hypothesis \")\n",
    "else:\n",
    "    print(\"failed to reject the null hypothesis \")\n",
    "\n",
    "    \"\"\"we have generated the random variable that has limit for A= 1 to 10 ,for B= 1to 5,for c= 1 to 7  so the random vartable is \n",
    "    diffrent so we get the p value <0.05  so we reject the null hypothesis this means there is quite diffrence in the mean \"\"\"\n"
   ]
  },
  {
   "cell_type": "code",
   "execution_count": 46,
   "metadata": {},
   "outputs": [
    {
     "name": "stdout",
     "output_type": "stream",
     "text": [
      "                         sum_sq    df         F    PR(>F)\n",
      "Software               1.155556   2.0  0.074897  0.927901\n",
      "Experience             0.011111   1.0  0.001440  0.969816\n",
      "Software:Experience    1.155556   2.0  0.074897  0.927901\n",
      "Residual             648.000000  84.0       NaN       NaN\n"
     ]
    }
   ],
   "source": [
    "# Q10. A company wants to know if there are any significant differences in the average time it takes to\n",
    "# complete a task using three different software programs: Program A, Program B, and Program C. They\n",
    "# randomly assign 30 employees to one of the programs and record the time it takes each employee to\n",
    "# complete the task. Conduct a two-way ANOVA using Python to determine if there are any main effects or\n",
    "# interaction effects between the software programs and employee experience level (novice vs.\n",
    "# experienced). Report the F-statistics and p-values, and interpret the results.\n",
    "\n",
    "import statsmodels.api as sm\n",
    "from statsmodels.formula.api import ols\n",
    "import pandas as pd\n",
    "import numpy as np\n",
    "import statsmodels.api as sm\n",
    "from statsmodels.formula.api import ols\n",
    "\n",
    "\n",
    "data = pd.DataFrame({\n",
    "    'Software': ['A', 'B', 'C'] * 30,\n",
    "    'Experience': ['Novice'] * 45 + ['Experienced'] * 45,\n",
    "    'Time': [10, 12, 15, 13, 14, 12, 11, 16, 18, 20, 11, 14, 16, 17, 14, 13, 12, 14, 11, 10,\n",
    "             14, 13, 11, 12, 16, 17, 19, 20, 18, 16, 15, 18, 17, 19, 20, 16, 14, 11, 12, 13,\n",
    "             14, 12, 10, 11, 15, 16, 13, 12, 11, 10, 12, 14, 15, 13, 12, 14, 16, 18, 19, 17,\n",
    "             16, 15, 19, 18, 17, 15, 14, 13, 12, 11, 14, 16, 15, 14, 13, 12, 10, 11, 13, 15,\n",
    "             16, 15, 19, 18, 17, 15, 14, 13, 12, 11]\n",
    "})\n",
    "\n",
    "\n",
    "model = ols('Time ~ Software + Experience + Software:Experience', data).fit()\n",
    "anova_table = sm.stats.anova_lm(model, typ=2)\n",
    "print(anova_table)"
   ]
  },
  {
   "cell_type": "code",
   "execution_count": 48,
   "metadata": {},
   "outputs": [
    {
     "name": "stdout",
     "output_type": "stream",
     "text": [
      "-3.3132887518206413\n",
      "0.0038661916961076725\n"
     ]
    }
   ],
   "source": [
    "# Q11. An educational researcher is interested in whether a new teaching method improves student test\n",
    "# scores. They randomly assign 100 students to either the control group (traditional teaching method) or the\n",
    "# experimental group (new teaching method) and administer a test at the end of the semester. Conduct a\n",
    "# two-sample t-test using Python to determine if there are any significant differences in test scores\n",
    "# between the two groups. If the results are significant, follow up with a post-hoc test to determine which\n",
    "# group(s) differ significantly from each other.\n",
    "\n",
    "import numpy as np\n",
    "from scipy.stats import ttest_ind\n",
    "control_scores = [80, 85, 90, 75, 78, 82, 86, 88, 92, 85]\n",
    "experimental_scores = [90, 92, 95, 88, 86, 93, 96, 98, 85, 90]\n",
    "t_stat, p_value = ttest_ind(control_scores, experimental_scores)\n",
    "print( t_stat)\n",
    "print( p_value)\n"
   ]
  },
  {
   "cell_type": "code",
   "execution_count": 49,
   "metadata": {},
   "outputs": [
    {
     "name": "stdout",
     "output_type": "stream",
     "text": [
      "   Multiple Comparison of Means - Tukey HSD, FWER=0.05    \n",
      "==========================================================\n",
      " group1    group2    meandiff p-adj  lower   upper  reject\n",
      "----------------------------------------------------------\n",
      "Control Experimental      7.2 0.0039 2.6346 11.7654   True\n",
      "----------------------------------------------------------\n"
     ]
    }
   ],
   "source": [
    "import numpy as np\n",
    "import statsmodels.stats.multicomp as mc\n",
    "control_scores = [80, 85, 90, 75, 78, 82, 86, 88, 92, 85]\n",
    "experimental_scores = [90, 92, 95, 88, 86, 93, 96, 98, 85, 90]\n",
    "scores = np.concatenate([control_scores, experimental_scores])\n",
    "labels = ['Control']*len(control_scores) + ['Experimental']*len(experimental_scores)\n",
    "tukey_results = mc.MultiComparison(scores, labels).tukeyhsd()\n",
    "print(tukey_results)\n"
   ]
  },
  {
   "cell_type": "code",
   "execution_count": 45,
   "metadata": {},
   "outputs": [
    {
     "name": "stdout",
     "output_type": "stream",
     "text": [
      "              sum_sq    df          F        PR(>F)\n",
      "Store     673.866667   2.0  56.663339  3.328188e-10\n",
      "Day        12.897980   1.0   2.169102  1.528121e-01\n",
      "Residual  154.602020  26.0        NaN           NaN\n",
      "Multiple Comparison of Means - Tukey HSD, FWER=0.05 \n",
      "====================================================\n",
      "group1 group2 meandiff p-adj  lower    upper  reject\n",
      "----------------------------------------------------\n",
      "     A      B      9.4   0.0   6.6382 12.1618   True\n",
      "     A      C     -1.2 0.536  -3.9618  1.5618  False\n",
      "     B      C    -10.6   0.0 -13.3618 -7.8382   True\n",
      "----------------------------------------------------\n"
     ]
    }
   ],
   "source": [
    "\"\"\"(12)researcher wants to know if there are any significant differences in the average daily sales of three\n",
    "retail stores: Store A, Store B, and Store C. They randomly select 30 days and record the sales for each store\n",
    "on those days. Conduct a repeated measures ANOVA using Python to determine if there are any\n",
    "\n",
    "significant differences in sales between the three stores. If the results are significant, follow up with a post-\n",
    "hoc test to determine which store(s) differ significantly from each other.\"\"\"\n",
    "\n",
    "import pandas as pd\n",
    "import statsmodels.api as sm\n",
    "from statsmodels.formula.api import ols\n",
    "\n",
    "\n",
    "data = {'Day': [i+1 for i in range(10)]*3,\n",
    "        'Store': ['A']*10 + ['B']*10 + ['C']*10,\n",
    "        'Sales': [50, 52, 48, 55, 53, 51, 49, 50, 52, 47,\n",
    "                  60, 58, 62, 59, 61, 63, 58, 59, 60, 61,\n",
    "                  45, 47, 50, 49, 46, 48, 50, 52, 55, 53]}\n",
    "\n",
    "sales_df = pd.DataFrame(data)\n",
    "\n",
    "\n",
    "rm_model = ols('Sales ~ Store + Day', data=sales_df).fit()\n",
    "\n",
    "\n",
    "anova_table = sm.stats.anova_lm(rm_model, typ=2)\n",
    "print(anova_table)\n",
    "\n",
    "\n",
    "tukey_results = sm.stats.multicomp.pairwise_tukeyhsd(sales_df['Sales'], sales_df['Store'])\n",
    "print(tukey_results)\n"
   ]
  },
  {
   "cell_type": "markdown",
   "metadata": {},
   "source": []
  }
 ],
 "metadata": {
  "kernelspec": {
   "display_name": "Python 3",
   "language": "python",
   "name": "python3"
  },
  "language_info": {
   "codemirror_mode": {
    "name": "ipython",
    "version": 3
   },
   "file_extension": ".py",
   "mimetype": "text/x-python",
   "name": "python",
   "nbconvert_exporter": "python",
   "pygments_lexer": "ipython3",
   "version": "3.11.2"
  },
  "orig_nbformat": 4
 },
 "nbformat": 4,
 "nbformat_minor": 2
}
